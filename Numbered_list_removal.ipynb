{
 "cells": [
  {
   "cell_type": "code",
   "execution_count": 9,
   "metadata": {},
   "outputs": [],
   "source": [
    "from glob import glob \n",
    "import os\n",
    "import re\n",
    "from tqdm import tqdm"
   ]
  },
  {
   "cell_type": "code",
   "execution_count": 6,
   "metadata": {},
   "outputs": [],
   "source": [
    "data_filepaths = glob('./Minutes/raw/*/*.txt')"
   ]
  },
  {
   "cell_type": "code",
   "execution_count": 7,
   "metadata": {},
   "outputs": [],
   "source": [
    "numbered_list_pattern = re.compile('\\d{1}\\.')\n",
    "def clean(text):\n",
    "    text = re.sub(numbered_list_pattern, '', text)\n",
    "    return text"
   ]
  },
  {
   "cell_type": "code",
   "execution_count": 10,
   "metadata": {},
   "outputs": [
    {
     "name": "stderr",
     "output_type": "stream",
     "text": [
      "100%|████████████████████████████████████████████████████████████████████████████████| 254/254 [00:07<00:00, 35.09it/s]\n"
     ]
    }
   ],
   "source": [
    "for filepath in tqdm(data_filepaths):\n",
    "    save_filepath = filepath.replace('raw', 'no-numbered-list')\n",
    "    save_dir = os.path.dirname(save_filepath)\n",
    "    if not os.path.exists(save_dir): os.makedirs(save_dir)\n",
    "        \n",
    "    with open(filepath, 'r', encoding='utf-8-sig') as f:\n",
    "        meeting_date_line = f.readline()\n",
    "        doc = ''.join(f.readlines())\n",
    "        \n",
    "    with open(save_filepath, \"w\", encoding='utf-8-sig') as file:\n",
    "        file.write(meeting_date_line)\n",
    "        file.write(clean(doc))"
   ]
  }
 ],
 "metadata": {
  "kernelspec": {
   "display_name": "Python 3 (ipykernel)",
   "language": "python",
   "name": "python3"
  },
  "language_info": {
   "codemirror_mode": {
    "name": "ipython",
    "version": 3
   },
   "file_extension": ".py",
   "mimetype": "text/x-python",
   "name": "python",
   "nbconvert_exporter": "python",
   "pygments_lexer": "ipython3",
   "version": "3.8.5"
  }
 },
 "nbformat": 4,
 "nbformat_minor": 4
}
